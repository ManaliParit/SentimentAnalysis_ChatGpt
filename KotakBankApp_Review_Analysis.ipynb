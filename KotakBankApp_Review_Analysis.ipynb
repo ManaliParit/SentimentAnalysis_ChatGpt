{
 "cells": [
  {
   "cell_type": "markdown",
   "id": "592a5950",
   "metadata": {},
   "source": [
    "## Sentiment Analysis and Automatic Reply of 'Kotak-811,UPI,Payments & Loans' App review using ChatGpt Prompts\n",
    "#### https://www.linkedin.com/in/manali-parit-07a214251/"
   ]
  },
  {
   "cell_type": "code",
   "execution_count": null,
   "id": "5d5c2aaa",
   "metadata": {},
   "outputs": [],
   "source": [
    "# Installation\n",
    "#!pip install google-play-scraper"
   ]
  },
  {
   "cell_type": "markdown",
   "id": "63f7da97",
   "metadata": {},
   "source": [
    "#### Libraries "
   ]
  },
  {
   "cell_type": "code",
   "execution_count": null,
   "id": "755fdcf9",
   "metadata": {},
   "outputs": [],
   "source": [
    "import json\n",
    "import pandas as pd\n",
    "from tqdm import tqdm\n",
    "\n",
    "import seaborn as sns\n",
    "import matplotlib.pyplot as plt\n",
    "\n",
    "from pygments import highlight\n",
    "from pygments.lexers import JsonLexer\n",
    "from pygments.formatters import TerminalFormatter\n",
    "\n",
    "from google_play_scraper import Sort, reviews, app\n",
    "\n",
    "%matplotlib inline\n",
    "%config InlineBackend.figure_format='retina'\n",
    "\n",
    "sns.set(style='whitegrid', palette='muted', font_scale=1.2)"
   ]
  },
  {
   "cell_type": "markdown",
   "id": "ffd3a62e",
   "metadata": {},
   "source": [
    "#### App id "
   ]
  },
  {
   "cell_type": "code",
   "execution_count": null,
   "id": "c52ae318",
   "metadata": {},
   "outputs": [],
   "source": [
    "app_package = ['com.msf.kbank.mobile']"
   ]
  },
  {
   "cell_type": "markdown",
   "id": "c9bbc41c",
   "metadata": {},
   "source": [
    "#### App Detail"
   ]
  },
  {
   "cell_type": "code",
   "execution_count": null,
   "id": "cf5a033d",
   "metadata": {},
   "outputs": [],
   "source": [
    "app_info = []\n",
    "\n",
    "for ap in tqdm(app_package):\n",
    "  info = app(ap, lang='en', country='us')\n",
    "  del info['comments']\n",
    "  app_info.append(info)"
   ]
  },
  {
   "cell_type": "code",
   "execution_count": null,
   "id": "da0e48de",
   "metadata": {},
   "outputs": [],
   "source": [
    "def print_json(json_object):\n",
    "  json_str = json.dumps(\n",
    "    json_object,\n",
    "    indent=2,\n",
    "    sort_keys=True,\n",
    "    default=str\n",
    "  )\n",
    "  print(highlight(json_str, JsonLexer(), TerminalFormatter()))"
   ]
  },
  {
   "cell_type": "code",
   "execution_count": null,
   "id": "809eca8c",
   "metadata": {},
   "outputs": [],
   "source": [
    "app_info_df = pd.DataFrame(app_info)\n",
    "app_info_df.to_csv('KOTAKBANK_INFO.csv', index=None, header=True)"
   ]
  },
  {
   "cell_type": "code",
   "execution_count": null,
   "id": "ba34f1f3",
   "metadata": {},
   "outputs": [],
   "source": [
    "# App Details\n",
    "app_info_df.transpose()"
   ]
  },
  {
   "cell_type": "markdown",
   "id": "63b9a8d5",
   "metadata": {},
   "source": [
    "#### Extracting the reviews"
   ]
  },
  {
   "cell_type": "code",
   "execution_count": null,
   "id": "5cb35fe7",
   "metadata": {},
   "outputs": [],
   "source": [
    "app_reviews_final = []\n",
    "\n",
    "for ap in tqdm(app_package):\n",
    "  for score in list(range(1, 6)):\n",
    "    for sort_order in [Sort.MOST_RELEVANT, Sort.NEWEST]:\n",
    "      rview, _ = reviews(\n",
    "        ap,\n",
    "        lang='en',\n",
    "        country='us',\n",
    "        sort=sort_order,\n",
    "        count= 1000,  # considered only 1000 reviews from each rating \n",
    "        filter_score_with=score\n",
    "      )\n",
    "\n",
    "      for r in rview:\n",
    "            if sort_order == Sort.MOST_RELEVANT:\n",
    "                r['sortOrder'] = 'most_relevant'\n",
    "            elif sort_order == Sort.NEWEST:\n",
    "                r['sortOrder'] = 'newest'\n",
    "            else :\n",
    "                None\n",
    "        \n",
    "            r['appId'] = ap\n",
    "\n",
    "    app_reviews_final.extend(rview)"
   ]
  },
  {
   "cell_type": "code",
   "execution_count": null,
   "id": "91faf34d",
   "metadata": {},
   "outputs": [],
   "source": [
    "# Count of reviews\n",
    "len(app_reviews_final)"
   ]
  },
  {
   "cell_type": "code",
   "execution_count": null,
   "id": "15b558d5",
   "metadata": {},
   "outputs": [],
   "source": [
    "# Converting the list into DataFrame\n",
    "reviews_df = pd.DataFrame(app_reviews_final)\n",
    "# Reviewing the reviews dataset we have extracted\n",
    "#reviews_df.sample(5)"
   ]
  },
  {
   "cell_type": "code",
   "execution_count": null,
   "id": "d6403404",
   "metadata": {},
   "outputs": [],
   "source": [
    "import datetime\n",
    "now = datetime.datetime.now()\n",
    "current_time = now.strftime(\"%Y%m%d_%H%M%S\")\n",
    "current_time"
   ]
  },
  {
   "cell_type": "code",
   "execution_count": null,
   "id": "e3220c1c",
   "metadata": {},
   "outputs": [],
   "source": [
    "# saving the dataset in csv file\n",
    "reviews_df.to_csv('KOTAKBANK_REVIEWS' + current_time + '.csv', index=None, header=True)"
   ]
  },
  {
   "cell_type": "code",
   "execution_count": null,
   "id": "f30b03e6",
   "metadata": {},
   "outputs": [],
   "source": [
    "reviews_df.shape"
   ]
  },
  {
   "cell_type": "code",
   "execution_count": null,
   "id": "110a00d1",
   "metadata": {},
   "outputs": [],
   "source": [
    "reviews_df.info()"
   ]
  },
  {
   "cell_type": "code",
   "execution_count": null,
   "id": "b3c5f7e6",
   "metadata": {},
   "outputs": [],
   "source": [
    "reviews = reviews_df[['reviewId', 'userName' , 'content' , 'score']]\n",
    "sample_df = reviews.groupby('score').apply(lambda x: x.sample(frac=0.005))\n",
    "sample_df.reset_index(inplace=True,drop=True)"
   ]
  },
  {
   "cell_type": "code",
   "execution_count": null,
   "id": "a0d6b88d",
   "metadata": {},
   "outputs": [],
   "source": [
    "import os\n",
    "import openai\n",
    "import chatgpt_cred\n",
    "\n",
    "openai.organization = chatgpt_cred.organization\n",
    "openai.api_key = chatgpt_cred.api_key\n",
    "#openai.Model.list()"
   ]
  },
  {
   "cell_type": "code",
   "execution_count": null,
   "id": "8183da20",
   "metadata": {},
   "outputs": [],
   "source": [
    "sample_df.reset_index(inplace = True,drop = True)\n",
    "sample_df['Sentiment']=None\n",
    "sample_df['Anger']=None\n",
    "sample_df['Reply']=None"
   ]
  },
  {
   "cell_type": "markdown",
   "id": "3f8bcc77",
   "metadata": {},
   "source": [
    "#### chatgpt allows 3 iterations per min "
   ]
  },
  {
   "cell_type": "code",
   "execution_count": null,
   "id": "8459ecfd",
   "metadata": {},
   "outputs": [],
   "source": [
    "import datetime\n",
    "import time\n",
    "import json\n",
    "\n",
    "def get_completion(prompt, model=\"gpt-3.5-turbo\"):\n",
    "    messages = [{\"role\": \"user\", \"content\": prompt}]\n",
    "    response = openai.ChatCompletion.create(\n",
    "        model=model,\n",
    "        messages=messages,\n",
    "        temperature=0, # this is the degree of randomness of the model's output\n",
    "    )\n",
    "    return response.choices[0].message[\"content\"]\n",
    "\n",
    "\n",
    "start_time = datetime.datetime.now()  # get the current time\n",
    "iteration_count = 0\n",
    "for i in range(n):\n",
    "    text=sample_df['content'][i]\n",
    "    # perform the iteration here\n",
    "    iteration_count += 1\n",
    "    print(f\"Iteration {iteration_count}\")\n",
    "    \n",
    "    # check if three iterations have been completed within one minute\n",
    "    elapsed_time = (datetime.datetime.now() - start_time).total_seconds()\n",
    "    if iteration_count % 3 == 0 and elapsed_time < 60:\n",
    "        time.sleep(60 - elapsed_time)  # wait for the remaining time in the minute\n",
    "        start_time = datetime.datetime.now()  # reset the start time and iteration count\n",
    "        iteration_count = 0\n",
    "    elif elapsed_time >= 60:\n",
    "        start_time = datetime.datetime.now()  # reset the start time and iteration count\n",
    "        iteration_count = 0\n",
    "    \n",
    "    prompt = f\"\"\"\n",
    "    Identify the following items from the review text: \n",
    "    - Sentiment (positive or negative)\n",
    "    - Is the customer expressing anger? (true or false)\n",
    "    -Generate a reply to thank the customer for their review.\n",
    "    If the sentiment is positive or neutral, thank them for \\\n",
    "    their text.If the sentiment is negative, apologize and suggest that \\\n",
    "    they can reach out to customer service.Make sure to use specific details from the text.\n",
    "    Write in a concise and professional tone.\n",
    "\n",
    "    The review is delimited with triple backticks. \\\n",
    "    Format your response as a json object with \\\n",
    "    \"sentiment\", \"anger\", 'reply' as the keys.\n",
    "    Make your response as short as possible.\n",
    "\n",
    "    Review text: '''{text}'''\n",
    "    \"\"\"\n",
    "    response = get_completion(prompt)\n",
    "    print(response)\n",
    "    d=json.loads(response)\n",
    "    sample_df['Sentiment'][i]=d[\"sentiment\"]\n",
    "    sample_df['Anger'][i]=d[\"anger\"]\n",
    "    sample_df['Reply'][i]=d[\"reply\"]"
   ]
  },
  {
   "cell_type": "code",
   "execution_count": null,
   "id": "b79a3789",
   "metadata": {},
   "outputs": [],
   "source": [
    "sample_df.to_csv('kotak_review_output.csv',index=False)"
   ]
  },
  {
   "cell_type": "code",
   "execution_count": null,
   "id": "3f8ae484",
   "metadata": {},
   "outputs": [],
   "source": []
  }
 ],
 "metadata": {
  "kernelspec": {
   "display_name": "Python 3 (ipykernel)",
   "language": "python",
   "name": "python3"
  },
  "language_info": {
   "codemirror_mode": {
    "name": "ipython",
    "version": 3
   },
   "file_extension": ".py",
   "mimetype": "text/x-python",
   "name": "python",
   "nbconvert_exporter": "python",
   "pygments_lexer": "ipython3",
   "version": "3.9.7"
  }
 },
 "nbformat": 4,
 "nbformat_minor": 5
}
